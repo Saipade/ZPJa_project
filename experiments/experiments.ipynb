{
 "cells": [
  {
   "attachments": {},
   "cell_type": "markdown",
   "metadata": {},
   "source": [
    "### Install dependencies"
   ]
  },
  {
   "cell_type": "code",
   "execution_count": null,
   "metadata": {},
   "outputs": [],
   "source": [
    "!git clone https://github.com/facebookresearch/XLM\n",
    "!pip install -e XLM\n",
    "!pip install pythainlp\n",
    "!pip install -r ../requirements.txt\n",
    "!git clone https://github.com/glample/fastBPE\n",
    "!mkdir -p XLM/tools/fastBPE\n",
    "!g++ -std=c++11 -pthread -O3 fastBPE/fastBPE/main.cc -IfastBPE -o XLM/tools/fastBPE/fast\n",
    "!git clone https://github.com/NVIDIA/apex\n",
    "!cd apex && python3 setup.py install"
   ]
  },
  {
   "attachments": {},
   "cell_type": "markdown",
   "metadata": {},
   "source": [
    "### Download the data"
   ]
  },
  {
   "cell_type": "code",
   "execution_count": null,
   "metadata": {},
   "outputs": [],
   "source": [
    "!mkdir -p data/{para,mono}\n",
    "!mkdir data/mono/{eu,en}\n",
    "!wget https://object.pouta.csc.fi/OPUS-CCMatrix/v1/moses/en-eu.txt.zip \n",
    "!unzip en-eu.txt.zip CCMatrix.en-eu.{en,eu}\n",
    "!head -130000 CCMatrix.en-eu.en data/mono/dataset.en\n",
    "!head -130000 CCMatrix.en-eu.eu data/mono/dataset.eu\n",
    "!paste data/mono/dataset.eu data/mono/dataset.en > dataset.eu-en\n",
    "!rm en-eu.txt.zip\n",
    "!wget --trust-server-names https://tinyurl.com/flores200dataset\n",
    "!tar -xvf flores200_dataset.tar.gz\n",
    "!cat flores200_dataset/{dev,devtest}/eus_Latn.{dev,devtest} > data/para/valid.eu\n",
    "!cat flores200_dataset/{dev,devtest}/eng_Latn.{dev,devtest} > data/para/valid.en\n",
    "!wget https://object.pouta.csc.fi/OPUS-Tatoeba/v2022-03-03/moses/en-eu.txt.zip\n",
    "!unzip en-eu.txt.zip Tatoeba.en-eu.{en,eu}\n",
    "!cat Tatoeba.en-eu.eu | grep '\\S' > data/para/test.eu\n",
    "!cat Tatoeba.en-eu.en | grep '\\S' > data/para/test.en\n",
    "!rm en-eu.txt.zip\n",
    "\n",
    "!mkdir models"
   ]
  },
  {
   "attachments": {},
   "cell_type": "markdown",
   "metadata": {},
   "source": [
    "### Clean the dataset"
   ]
  },
  {
   "attachments": {},
   "cell_type": "markdown",
   "metadata": {},
   "source": [
    "python3 ../src/cleaner.py -s dataset.eu-en --src_lang eu --tgt_lang en -t dataset.eu-en.fixed --verify_langs --filter_by_sims"
   ]
  },
  {
   "attachments": {},
   "cell_type": "markdown",
   "metadata": {},
   "source": [
    "### Preprocess the data"
   ]
  },
  {
   "cell_type": "code",
   "execution_count": null,
   "metadata": {},
   "outputs": [],
   "source": [
    "!bash preprocess.sh --src eu --tgt en"
   ]
  },
  {
   "attachments": {},
   "cell_type": "markdown",
   "metadata": {},
   "source": [
    "### Train on uncleaned data"
   ]
  },
  {
   "cell_type": "code",
   "execution_count": null,
   "metadata": {},
   "outputs": [],
   "source": [
    "!python XLM/train.py \\\n",
    "    --exp_name uncleaned_data \\\n",
    "    --data_path data/processed/en-eu \\\n",
    "    --dump_path models \\\n",
    "    --lgs en-eu \\\n",
    "    --clm_steps \"\" \\\n",
    "    --mlm_steps \"\" \\\n",
    "    --mt_steps \"eu-en\" \\\n",
    "    --encoder_only false \\\n",
    "    --emb_dim 128 \\\n",
    "    --n_layers 4 \\\n",
    "    --n_heads 8 \\\n",
    "    --dropout 0.1  \\\n",
    "    --attention_dropout 0.1  \\\n",
    "    --epoch_size 100000 \\\n",
    "    --max_epoch 10000 \\\n",
    "    --batch_size 32 \\\n",
    "    --optimizer adam,lr=0.00001 \\\n",
    "    --eval_bleu true \\\n",
    "    --stopping_criterion 'valid_eu-en_mt_bleu,50' "
   ]
  },
  {
   "attachments": {},
   "cell_type": "markdown",
   "metadata": {},
   "source": [
    "### Replace the uncleaned dataset with cleaned one"
   ]
  },
  {
   "attachments": {},
   "cell_type": "markdown",
   "metadata": {},
   "source": [
    "!rm -rf data/mono\n",
    "!mkdir -p data/mono\n",
    "!cut -f1 dataset.eu-en.fixed > data/mono/dataset.eu\n",
    "!cut -f2 dataset.eu-en.fixed > data/mono/dataset.en\n",
    "!bash preprocess.sh --src eu --tgt en"
   ]
  },
  {
   "attachments": {},
   "cell_type": "markdown",
   "metadata": {},
   "source": [
    "### Train on cleaned data"
   ]
  },
  {
   "cell_type": "code",
   "execution_count": null,
   "metadata": {},
   "outputs": [],
   "source": [
    "!python XLM/train.py \\\n",
    "    --exp_name cleaned_data \\\n",
    "    --data_path data/processed/en-eu \\\n",
    "    --dump_path models \\\n",
    "    --lgs en-eu \\\n",
    "    --clm_steps \"\" \\\n",
    "    --mlm_steps \"\" \\\n",
    "    --mt_steps \"eu-en\" \\\n",
    "    --encoder_only false \\\n",
    "    --emb_dim 128 \\\n",
    "    --n_layers 4 \\\n",
    "    --n_heads 8 \\\n",
    "    --dropout 0.1  \\\n",
    "    --attention_dropout 0.1  \\\n",
    "    --epoch_size 100000 \\\n",
    "    --max_epoch 10000 \\\n",
    "    --batch_size 32 \\\n",
    "    --optimizer adam,lr=0.00001 \\\n",
    "    --eval_bleu true \\\n",
    "    --stopping_criterion 'valid_eu-en_mt_bleu,50' "
   ]
  }
 ],
 "metadata": {
  "kernelspec": {
   "display_name": "zpja_project",
   "language": "python",
   "name": "python3"
  },
  "language_info": {
   "name": "python",
   "version": "3.10.8 (main, Nov 24 2022, 14:13:03) [GCC 11.2.0]"
  },
  "orig_nbformat": 4,
  "vscode": {
   "interpreter": {
    "hash": "a65caadeb76a4d97f29237b4e6b66f42987c2e40da85a25476d1cc8d857c04cb"
   }
  }
 },
 "nbformat": 4,
 "nbformat_minor": 2
}
